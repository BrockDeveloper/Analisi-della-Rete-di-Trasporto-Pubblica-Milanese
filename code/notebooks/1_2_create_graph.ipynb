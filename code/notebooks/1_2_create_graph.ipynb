{
 "cells": [
  {
   "cell_type": "markdown",
   "id": "33d754a5",
   "metadata": {},
   "source": [
    "**Definizione del grafo**\n",
    "\n",
    "Analisi delle caratteristiche e della vulnerabilità della Rete di Trasporto Pubblica Metropolitana Milanese  \n",
    "*Progetto del corso di Data Analytics*\n",
    "\n",
    "\n",
    "Andrea Broccoletti  \n",
    "*Matricola 886155*"
   ]
  },
  {
   "cell_type": "code",
   "execution_count": 16,
   "id": "0347e71b",
   "metadata": {},
   "outputs": [],
   "source": [
    "import igraph as ig\n",
    "import pandas as pd\n",
    "import numpy as np"
   ]
  },
  {
   "cell_type": "markdown",
   "id": "57ff1159",
   "metadata": {},
   "source": [
    "# Caricamento dei dati\n",
    "Caricamento dei file csv, elaborazioni dei dataset GTFS. Le linee metropolitane e le linee di superficie risiedono in due file diversi."
   ]
  },
  {
   "cell_type": "code",
   "execution_count": 17,
   "id": "1bfa6c23",
   "metadata": {},
   "outputs": [],
   "source": [
    "underground_routes = pd.read_csv('../assets/static/gtfs/atm_underground_routes.csv')\n",
    "underground_stops = pd.read_csv('../assets/static/gtfs/atm_underground_stops.csv')\n",
    "underground_trips = pd.read_csv('../assets/static/gtfs/atm_underground_trips.csv')"
   ]
  },
  {
   "cell_type": "markdown",
   "id": "5bffa6c3",
   "metadata": {},
   "source": [
    "## Pulizia preliminare dei dati e delle intestazioni\n",
    "I file csv presentano intestazioni diverse e devono essere uniformati per poter procedere all'unione"
   ]
  },
  {
   "cell_type": "code",
   "execution_count": 18,
   "id": "add65578",
   "metadata": {},
   "outputs": [],
   "source": [
    "underground_stops = underground_stops[['id_amat', 'nome', 'linee', 'LONG_X_4326', 'LAT_Y_4326']]\n",
    "underground_stops.columns = ['stop_id', 'stop_name', 'lines', 'longitude', 'latitude']\n",
    "\n",
    "underground_stops[\"lines\"] = underground_stops[\"lines\"].apply(lambda x: list(map(int, x.split(\",\")))) "
   ]
  },
  {
   "cell_type": "code",
   "execution_count": 19,
   "id": "da057d6e",
   "metadata": {},
   "outputs": [],
   "source": [
    "underground_trips = underground_trips[['percorso', 'num', 'id_ferm']]\n",
    "underground_trips.columns = ['route_id', 'sequence', 'stop_id']"
   ]
  },
  {
   "cell_type": "code",
   "execution_count": 20,
   "id": "d1de00c1",
   "metadata": {},
   "outputs": [],
   "source": [
    "underground_routes = underground_routes[['linea', 'mezzo', 'percorso']]\n",
    "underground_routes.columns = ['route_name', 'route_type', 'route_id']"
   ]
  },
  {
   "cell_type": "markdown",
   "id": "58a5cf1e",
   "metadata": {},
   "source": [
    "# Costruzione del grafo\n",
    "Costruzione del grafo non diretto in forma L-space, in cui i nodi sono stazioni e gli archi collegamenti di una linea."
   ]
  },
  {
   "cell_type": "code",
   "execution_count": 21,
   "id": "4eec5ab8",
   "metadata": {},
   "outputs": [],
   "source": [
    "G = ig.Graph(directed=False)"
   ]
  },
  {
   "cell_type": "markdown",
   "id": "ee28996f",
   "metadata": {},
   "source": [
    "## Costruzione dei nodi\n",
    "Ogni stazione corrisponde ad un nodo della rete."
   ]
  },
  {
   "cell_type": "code",
   "execution_count": 22,
   "id": "29bd8379",
   "metadata": {},
   "outputs": [],
   "source": [
    "# Stops incluse in almeno un trips\n",
    "active_stops = underground_trips[\"stop_id\"].unique()"
   ]
  },
  {
   "cell_type": "code",
   "execution_count": 23,
   "id": "2f2799f9",
   "metadata": {},
   "outputs": [],
   "source": [
    "for stop in active_stops:\n",
    "\n",
    "    stop_info = underground_stops[underground_stops[\"stop_id\"] == stop]\n",
    "    \n",
    "    if not stop_info.empty:\n",
    "        G.add_vertex(name=stop, \n",
    "                     stop_name=stop_info[\"stop_name\"].values[0], \n",
    "                     longitude=stop_info[\"longitude\"].values[0], \n",
    "                     latitude=stop_info[\"latitude\"].values[0], \n",
    "                     lines=stop_info[\"lines\"].values[0])"
   ]
  },
  {
   "cell_type": "markdown",
   "id": "c59c365e",
   "metadata": {},
   "source": [
    "## Costruzione degli archi\n",
    "Ogni arco corrisponde ad un collegamento tra due stazioni successive. \n",
    "La presenza di un arco significa che almeno una linea collega le due stazioni (nodi) coinvolte."
   ]
  },
  {
   "cell_type": "code",
   "execution_count": 24,
   "id": "60ceeb29",
   "metadata": {},
   "outputs": [],
   "source": [
    "for route in underground_trips[\"route_id\"].unique():\n",
    " \n",
    "    trips = underground_trips[underground_trips[\"route_id\"] == route]\n",
    "    route_info = underground_routes[underground_routes[\"route_id\"] == route]\n",
    "    \n",
    "    trips = trips.sort_values(by=\"sequence\")\n",
    "    trip_stops = trips[\"stop_id\"].tolist()\n",
    "\n",
    "    for i in range(len(trip_stops) - 1):\n",
    "\n",
    "        if G.are_adjacent(G.vs.find(name=np.int64(trip_stops[i])), \n",
    "                           G.vs.find(name=np.int64(trip_stops[i + 1]))):\n",
    "            \n",
    "            edge = G.es.find(_between=([G.vs.find(name=np.int64(trip_stops[i])).index], \n",
    "                                        [G.vs.find(name=np.int64(trip_stops[i + 1])).index]))\n",
    "            \n",
    "            # Conversione delle linee in liste di interi\n",
    "            existing_lines = set(map(int, edge[\"lines\"]))\n",
    "            existing_lines.add(int(route_info[\"route_name\"].values[0]))\n",
    "            edge[\"lines\"] = list(existing_lines)\n",
    "            \n",
    "        else:\n",
    "            G.add_edge(G.vs.find(name=np.int64(trip_stops[i])), \n",
    "                       G.vs.find(name=np.int64(trip_stops[i + 1])), lines=[int(route_info[\"route_name\"].values[0])])"
   ]
  },
  {
   "cell_type": "markdown",
   "id": "74bb0167",
   "metadata": {},
   "source": [
    "# Modifica dei collegamenti\n",
    "Alcune stazioni metropolitane presentano nomi diversi anche se sono fisicamente la stessa stazione, quindi devono essere rappresentate con lo stesso nodo."
   ]
  },
  {
   "cell_type": "code",
   "execution_count": 25,
   "id": "283653bc",
   "metadata": {},
   "outputs": [],
   "source": [
    "renamed_stops = {\"LORETO\": [\"LORETO M2\", \"LORETO M1\"],\n",
    "                 \"CADORNA\": [\"CADORNA FN M1\", \"CADORNA FN M2\"],\n",
    "                 \"DUOMO\": [\"DUOMO M1\", \"DUOMO M3\"],\n",
    "                 \"LOTTO\": [\"LOTTO FIERAMILANOCITY\", \"LOTTO M5\"],\n",
    "                 \"SAN AMBROGIO\": [\"S.AMBROGIO\", \"SAN AMBROGIO\"]}"
   ]
  },
  {
   "cell_type": "code",
   "execution_count": 26,
   "id": "3ccab7a5",
   "metadata": {},
   "outputs": [],
   "source": [
    "for new_name, old_names in renamed_stops.items():\n",
    "\n",
    "    old_vertices = [v for v in G.vs if v['stop_name'] in old_names]\n",
    "    if len(old_vertices) < 2:\n",
    "        continue\n",
    "\n",
    "    # creazione del nuovo nodo\n",
    "    new_vertex = G.add_vertex(name=new_name)\n",
    "    new_vertex['stop_name'] = new_name\n",
    "    new_vertex['longitude'] = np.mean([v['longitude'] for v in old_vertices])\n",
    "    new_vertex['latitude'] = np.mean([v['latitude'] for v in old_vertices])\n",
    "    new_vertex['lines'] = list(set().union(*[v['lines'] for v in old_vertices]))\n",
    "\n",
    "    # collegamento dei nuovi nodi ai neighbor dei vecchi nodi mantenendo gli attributi degli archi\n",
    "    for old_vertex in old_vertices:\n",
    "        neighbors = G.neighbors(old_vertex)\n",
    "\n",
    "        for neighbor_index in neighbors:\n",
    "            neighbor_vertex = G.vs[neighbor_index]\n",
    "\n",
    "            if G.are_adjacent(new_vertex, neighbor_vertex):\n",
    "                edge = G.es.find(_between=([new_vertex.index], [neighbor_vertex.index]))\n",
    "                existing_lines = set(map(int, edge[\"lines\"]))\n",
    "                existing_lines.update(map(int, G.es.find(_between=([old_vertex.index], [neighbor_vertex.index]))[\"lines\"]))\n",
    "                edge[\"lines\"] = list(existing_lines)\n",
    "                \n",
    "            else:\n",
    "                old_edge = G.es.find(_between=([old_vertex.index], [neighbor_vertex.index]))\n",
    "                G.add_edge(new_vertex, neighbor_vertex, lines=old_edge[\"lines\"])\n",
    "\n",
    "    # rimozione dei vecchi nodi\n",
    "    G.delete_vertices([v.index for v in old_vertices]) "
   ]
  },
  {
   "cell_type": "markdown",
   "id": "3c934d65",
   "metadata": {},
   "source": [
    "# Salvataggio\n",
    "Il grafo risultante viene salvato in formato Graphml perdendo gli attributi lista.  \n",
    "Viene salvato anche il formato Pickle per poter essere usato nelle fasi successive"
   ]
  },
  {
   "cell_type": "code",
   "execution_count": 27,
   "id": "559c8999",
   "metadata": {},
   "outputs": [],
   "source": [
    "G.write_graphml('../assets/static/graphs/atm_network.graphml')"
   ]
  },
  {
   "cell_type": "code",
   "execution_count": 28,
   "id": "3b87cd39",
   "metadata": {},
   "outputs": [],
   "source": [
    "G.write_pickle('../assets/static/graphs/atm_network.pkl')"
   ]
  }
 ],
 "metadata": {
  "kernelspec": {
   "display_name": "env",
   "language": "python",
   "name": "python3"
  },
  "language_info": {
   "codemirror_mode": {
    "name": "ipython",
    "version": 3
   },
   "file_extension": ".py",
   "mimetype": "text/x-python",
   "name": "python",
   "nbconvert_exporter": "python",
   "pygments_lexer": "ipython3",
   "version": "3.13.5"
  }
 },
 "nbformat": 4,
 "nbformat_minor": 5
}
