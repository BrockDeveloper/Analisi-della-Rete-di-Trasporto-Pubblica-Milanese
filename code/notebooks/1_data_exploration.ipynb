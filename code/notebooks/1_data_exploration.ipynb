{
 "cells": [
  {
   "cell_type": "markdown",
   "id": "f14fa07b",
   "metadata": {},
   "source": [
    "**Data Exploration**\n",
    "\n",
    "Analisi delle caratteristiche e della vulnerabilità della Rete di Trasporto Pubblica Metropolitana Milanese  \n",
    "*Progetto del corso di Data Analytics*\n",
    "\n",
    "\n",
    "Andrea Broccoletti  \n",
    "*Matricola 886155*"
   ]
  },
  {
   "cell_type": "code",
   "execution_count": 8,
   "id": "a3f98924",
   "metadata": {},
   "outputs": [],
   "source": [
    "import pandas as pd"
   ]
  },
  {
   "cell_type": "markdown",
   "id": "54864a74",
   "metadata": {},
   "source": [
    "# Caricamento dei dati\n",
    "Caricamento dei file csv, elaborazioni dei dataset GTFS. Le linee metropolitane e le linee di superficie risiedono in due file diversi."
   ]
  },
  {
   "cell_type": "code",
   "execution_count": 9,
   "id": "bb471031",
   "metadata": {},
   "outputs": [],
   "source": [
    "underground_routes = pd.read_csv('../assets/static/gtfs/atm_underground_routes.csv')\n",
    "underground_stops = pd.read_csv('../assets/static/gtfs/atm_underground_stops.csv')\n",
    "underground_trips = pd.read_csv('../assets/static/gtfs/atm_underground_trips.csv')"
   ]
  },
  {
   "cell_type": "markdown",
   "id": "8559497e",
   "metadata": {},
   "source": [
    "# Analisi esplorativa dei dati"
   ]
  },
  {
   "cell_type": "markdown",
   "id": "b5dd6cf4",
   "metadata": {},
   "source": [
    "## Descrizione numerica dei dataset"
   ]
  },
  {
   "cell_type": "code",
   "execution_count": 10,
   "id": "39795e19",
   "metadata": {},
   "outputs": [
    {
     "name": "stdout",
     "output_type": "stream",
     "text": [
      "Underground Routes: (43, 10)\n",
      "Underground Stops: (130, 7)\n",
      "Underground Trips: (838, 4)\n"
     ]
    }
   ],
   "source": [
    "print(\"Underground Routes:\", underground_routes.shape)\n",
    "print(\"Underground Stops:\", underground_stops.shape)\n",
    "print(\"Underground Trips:\", underground_trips.shape)"
   ]
  },
  {
   "cell_type": "markdown",
   "id": "d32c3b52",
   "metadata": {},
   "source": [
    "## Ricerca di valori nulli"
   ]
  },
  {
   "cell_type": "code",
   "execution_count": 11,
   "id": "7d9a3d9c",
   "metadata": {},
   "outputs": [
    {
     "name": "stdout",
     "output_type": "stream",
     "text": [
      "\n",
      "Valori nulli nei dataset:\n",
      "Underground Routes:\n",
      " _id                     0\n",
      "linea                   0\n",
      "mezzo                   0\n",
      "percorso                0\n",
      "nome                    0\n",
      "lung_km                 0\n",
      "num_ferm                0\n",
      "LONG_X_4326_CENTROID    0\n",
      "LAT_Y_4326_CENTROID     0\n",
      "Location                0\n",
      "dtype: int64\n",
      "Underground Stops:\n",
      " _id            0\n",
      "id_amat        0\n",
      "nome           0\n",
      "linee          0\n",
      "LONG_X_4326    0\n",
      "LAT_Y_4326     0\n",
      "Location       0\n",
      "dtype: int64\n",
      "Underground Trips:\n",
      " _id         0\n",
      "percorso    0\n",
      "num         0\n",
      "id_ferm     0\n",
      "dtype: int64\n"
     ]
    }
   ],
   "source": [
    "print(\"\\nValori nulli nei dataset:\")\n",
    "print(\"Underground Routes:\\n\", underground_routes.isnull().sum())\n",
    "print(\"Underground Stops:\\n\", underground_stops.isnull().sum())\n",
    "print(\"Underground Trips:\\n\", underground_trips.isnull().sum())"
   ]
  },
  {
   "cell_type": "markdown",
   "id": "a2e77a66",
   "metadata": {},
   "source": [
    "## Data Types"
   ]
  },
  {
   "cell_type": "code",
   "execution_count": 12,
   "id": "3edc5ca8",
   "metadata": {},
   "outputs": [
    {
     "name": "stdout",
     "output_type": "stream",
     "text": [
      "\n",
      "Tipologia dei dati nei dataset:\n",
      "Underground Routes:\n",
      " _id                       int64\n",
      "linea                     int64\n",
      "mezzo                    object\n",
      "percorso                  int64\n",
      "nome                     object\n",
      "lung_km                 float64\n",
      "num_ferm                  int64\n",
      "LONG_X_4326_CENTROID    float64\n",
      "LAT_Y_4326_CENTROID     float64\n",
      "Location                 object\n",
      "dtype: object\n",
      "Underground Stops:\n",
      " _id              int64\n",
      "id_amat          int64\n",
      "nome            object\n",
      "linee           object\n",
      "LONG_X_4326    float64\n",
      "LAT_Y_4326     float64\n",
      "Location        object\n",
      "dtype: object\n",
      "Underground Trips:\n",
      " _id         int64\n",
      "percorso    int64\n",
      "num         int64\n",
      "id_ferm     int64\n",
      "dtype: object\n"
     ]
    }
   ],
   "source": [
    "print(\"\\nTipologia dei dati nei dataset:\")\n",
    "print(\"Underground Routes:\\n\", underground_routes.dtypes)\n",
    "print(\"Underground Stops:\\n\", underground_stops.dtypes)\n",
    "print(\"Underground Trips:\\n\", underground_trips.dtypes)"
   ]
  },
  {
   "cell_type": "markdown",
   "id": "f6a1a26a",
   "metadata": {},
   "source": [
    "## Statistiche descrittive"
   ]
  },
  {
   "cell_type": "code",
   "execution_count": 13,
   "id": "46f3ec3e",
   "metadata": {},
   "outputs": [
    {
     "name": "stdout",
     "output_type": "stream",
     "text": [
      "\n",
      "Statistiche descrittive dei dataset:\n",
      "Underground Routes:\n",
      "               _id      linea  mezzo       percorso  \\\n",
      "count   43.000000  43.000000     43      43.000000   \n",
      "unique        NaN        NaN      1            NaN   \n",
      "top           NaN        NaN  METRO            NaN   \n",
      "freq          NaN        NaN     43            NaN   \n",
      "mean    22.000000   2.046512    NaN  100073.441860   \n",
      "std     12.556539   0.950025    NaN      44.260755   \n",
      "min      1.000000   1.000000    NaN  100002.000000   \n",
      "25%     11.500000   2.000000    NaN  100045.500000   \n",
      "50%     22.000000   2.000000    NaN  100064.000000   \n",
      "75%     32.500000   2.000000    NaN  100083.000000   \n",
      "max     43.000000   5.000000    NaN  100164.000000   \n",
      "\n",
      "                                 nome    lung_km   num_ferm  \\\n",
      "count                              43  43.000000  43.000000   \n",
      "unique                             43        NaN        NaN   \n",
      "top     BISCEGLIE - SESTO 1 MAGGIO FS        NaN        NaN   \n",
      "freq                                1        NaN        NaN   \n",
      "mean                              NaN  15.892326  19.488372   \n",
      "std                               NaN   8.511407   9.302770   \n",
      "min                               NaN   0.780000   2.000000   \n",
      "25%                               NaN  11.680000  13.000000   \n",
      "50%                               NaN  15.630000  21.000000   \n",
      "75%                               NaN  19.180000  27.500000   \n",
      "max                               NaN  33.250000  31.000000   \n",
      "\n",
      "        LONG_X_4326_CENTROID  LAT_Y_4326_CENTROID  \\\n",
      "count              43.000000            43.000000   \n",
      "unique                   NaN                  NaN   \n",
      "top                      NaN                  NaN   \n",
      "freq                     NaN                  NaN   \n",
      "mean                9.223337            45.485835   \n",
      "std                 0.062340             0.024315   \n",
      "min                 9.157717            45.419096   \n",
      "25%                 9.178112            45.472643   \n",
      "50%                 9.202420            45.484660   \n",
      "75%                 9.257224            45.494608   \n",
      "max                 9.430069            45.543675   \n",
      "\n",
      "                                    Location  \n",
      "count                                     43  \n",
      "unique                                    38  \n",
      "top     (45.4834919858101, 9.18753014371281)  \n",
      "freq                                       2  \n",
      "mean                                     NaN  \n",
      "std                                      NaN  \n",
      "min                                      NaN  \n",
      "25%                                      NaN  \n",
      "50%                                      NaN  \n",
      "75%                                      NaN  \n",
      "max                                      NaN  \n",
      "Underground Stops:\n",
      "                _id     id_amat     nome linee  LONG_X_4326  LAT_Y_4326  \\\n",
      "count   130.000000  130.000000      130   130   130.000000  130.000000   \n",
      "unique         NaN         NaN      130     9          NaN         NaN   \n",
      "top            NaN         NaN  BOLIVAR     1          NaN         NaN   \n",
      "freq           NaN         NaN        1    37          NaN         NaN   \n",
      "mean     65.500000  933.876923      NaN   NaN     9.198915   45.481503   \n",
      "std      37.671829   38.081108      NaN   NaN     0.064262    0.028880   \n",
      "min       1.000000  869.000000      NaN   NaN     9.085807   45.401749   \n",
      "25%      33.250000  901.250000      NaN   NaN     9.160320   45.461672   \n",
      "50%      65.500000  933.500000      NaN   NaN     9.190430   45.478643   \n",
      "75%      97.750000  966.750000      NaN   NaN     9.223287   45.501509   \n",
      "max     130.000000  999.000000      NaN   NaN     9.436625   45.545287   \n",
      "\n",
      "                                    Location  \n",
      "count                                    130  \n",
      "unique                                   130  \n",
      "top     (45.4553190010346, 9.15314900789545)  \n",
      "freq                                       1  \n",
      "mean                                     NaN  \n",
      "std                                      NaN  \n",
      "min                                      NaN  \n",
      "25%                                      NaN  \n",
      "50%                                      NaN  \n",
      "75%                                      NaN  \n",
      "max                                      NaN  \n",
      "Underground Trips:\n",
      "               _id       percorso         num     id_ferm\n",
      "count  838.000000     838.000000  838.000000  838.000000\n",
      "mean   419.500000  100064.437947   12.412888  941.538186\n",
      "std    242.054057      39.094657    7.812402   33.561909\n",
      "min      1.000000  100002.000000    1.000000  869.000000\n",
      "25%    210.250000  100042.000000    6.000000  912.000000\n",
      "50%    419.500000  100053.000000   12.000000  944.000000\n",
      "75%    628.750000  100077.000000   18.000000  973.000000\n",
      "max    838.000000  100164.000000   31.000000  999.000000\n"
     ]
    }
   ],
   "source": [
    "print(\"\\nStatistiche descrittive dei dataset:\")\n",
    "print(\"Underground Routes:\\n\", underground_routes.describe(include='all'))\n",
    "print(\"Underground Stops:\\n\", underground_stops.describe(include='all'))\n",
    "print(\"Underground Trips:\\n\", underground_trips.describe(include='all'))\n",
    "\n",
    "underground_routes.describe(include='all').to_csv('../assets/analysis/outputs/data_exploration/underground_routes_description.csv')\n",
    "underground_stops.describe(include='all').to_csv('../assets/analysis/outputs/data_exploration/underground_stops_description.csv')\n",
    "underground_trips.describe(include='all').to_csv('../assets/analysis/outputs/data_exploration/underground_trips_description.csv')"
   ]
  },
  {
   "cell_type": "markdown",
   "id": "31b52b31",
   "metadata": {},
   "source": [
    "### Linee che compongono la rete\n",
    "Tratta il campo \"linea\" del dataset routes come un categorico, mostra il conteggio di ogni categoria."
   ]
  },
  {
   "cell_type": "code",
   "execution_count": 14,
   "id": "fd8f44f5",
   "metadata": {},
   "outputs": [
    {
     "name": "stdout",
     "output_type": "stream",
     "text": [
      "\n",
      "Conteggio delle linee nella metropolitana di Milano:\n",
      "linea\n",
      "2    27\n",
      "1    10\n",
      "3     2\n",
      "4     2\n",
      "5     2\n",
      "Name: count, dtype: int64\n"
     ]
    }
   ],
   "source": [
    "line_counts = underground_routes['linea'].value_counts()\n",
    "\n",
    "print(\"\\nConteggio delle linee nella metropolitana di Milano:\")\n",
    "print(line_counts)"
   ]
  }
 ],
 "metadata": {
  "kernelspec": {
   "display_name": "env",
   "language": "python",
   "name": "python3"
  },
  "language_info": {
   "codemirror_mode": {
    "name": "ipython",
    "version": 3
   },
   "file_extension": ".py",
   "mimetype": "text/x-python",
   "name": "python",
   "nbconvert_exporter": "python",
   "pygments_lexer": "ipython3",
   "version": "3.13.5"
  }
 },
 "nbformat": 4,
 "nbformat_minor": 5
}
